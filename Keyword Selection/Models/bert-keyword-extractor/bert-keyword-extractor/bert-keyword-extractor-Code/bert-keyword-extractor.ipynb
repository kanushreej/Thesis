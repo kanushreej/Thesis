{
 "cells": [
  {
   "cell_type": "code",
   "execution_count": null,
   "id": "13c14830-82b3-441b-97b0-a13983e52251",
   "metadata": {},
   "outputs": [],
   "source": [
    "import pandas as pd\n",
    "from transformers import pipeline\n",
    "from tqdm import tqdm\n",
    "\n",
    "extractor = pipeline(model=\"yanekyuk/bert-keyword-extractor\")\n",
    "\n",
    "df = pd.read_csv(\"   \")\n",
    "\n",
    "df['body'] = df['body'].fillna('0').astype(str)"
   ]
  },
  {
   "cell_type": "code",
   "execution_count": null,
   "id": "c04dfa91-aa68-49f8-9b7a-befb12619705",
   "metadata": {},
   "outputs": [],
   "source": [
    "def extract_keywords(text):\n",
    "    try:\n",
    "        return extractor(text)\n",
    "    except Exception as e:\n",
    "        print(f\"Error extracting keywords for text: {text} with error {e}\")\n",
    "        return []"
   ]
  },
  {
   "cell_type": "code",
   "execution_count": null,
   "id": "41a9e7fc-dd16-4cf4-9af0-fa5f51aafd89",
   "metadata": {},
   "outputs": [],
   "source": [
    "tqdm.pandas() \n",
    "df['keywords'] = df['body'].progress_apply(extract_keywords)\n",
    "\n",
    "print(\"Keywords extraction completed.\")"
   ]
  },
  {
   "cell_type": "code",
   "execution_count": null,
   "id": "62ef5ac9-0655-4e81-ae0e-91decbd2a108",
   "metadata": {},
   "outputs": [],
   "source": [
    "def format_keywords(hf_output):\n",
    "    return [(entry['word'], entry['score']) for entry in hf_output]"
   ]
  },
  {
   "cell_type": "code",
   "execution_count": null,
   "id": "7b517562-4a41-4091-94d5-abe10dc91cc8",
   "metadata": {},
   "outputs": [],
   "source": [
    "df['formatted_keywords'] = df['keywords'].apply(format_keywords)"
   ]
  },
  {
   "cell_type": "code",
   "execution_count": null,
   "id": "45d86ebf-f9ea-4c2a-af5c-0e9316d0056a",
   "metadata": {},
   "outputs": [],
   "source": [
    "# To solve the prblem brought by subword tokenization\n",
    "def merge_subwords(keywords):\n",
    "    merged_keywords = []\n",
    "    previous_keyword = None\n",
    "    \n",
    "    for word, score in keywords:\n",
    "        if word.startswith('##'):\n",
    "            if previous_keyword:\n",
    "                # Remove the \"##\" and combine with previous word\n",
    "                previous_keyword = (previous_keyword[0] + word.replace('##', ''), max(previous_keyword[1], score))\n",
    "        else:\n",
    "            if previous_keyword:\n",
    "                # Add the keyword we combined to the list\n",
    "                merged_keywords.append(previous_keyword)\n",
    "            # Update the previous_keyword with current word\n",
    "            previous_keyword = (word, score)\n",
    "    \n",
    "    # Make sure the last word will be added\n",
    "    if previous_keyword:\n",
    "        merged_keywords.append(previous_keyword)\n",
    "        \n",
    "    return merged_keywords"
   ]
  },
  {
   "cell_type": "code",
   "execution_count": null,
   "id": "e3d1e3a9-af73-41d5-9855-37a52ca98bdf",
   "metadata": {},
   "outputs": [],
   "source": [
    "df['merged_keywords'] = df['formatted_keywords'].apply(merge_subwords)"
   ]
  },
  {
   "cell_type": "code",
   "execution_count": null,
   "id": "891a95ee-33e8-4452-bd30-ed0748534dc8",
   "metadata": {},
   "outputs": [],
   "source": [
    "all_keywords = df['merged_keywords'].tolist()"
   ]
  },
  {
   "cell_type": "code",
   "execution_count": null,
   "id": "ad7c24f2-50e0-4f92-9672-cc83394c72d5",
   "metadata": {},
   "outputs": [],
   "source": [
    "from itertools import chain\n",
    "\n",
    "flat_list = list(chain(*all_keywords)) "
   ]
  },
  {
   "cell_type": "code",
   "execution_count": null,
   "id": "c3352b1d-3efa-4c8b-92b6-bb831df838e0",
   "metadata": {},
   "outputs": [],
   "source": [
    "import re\n",
    "from collections import Counter\n",
    "\n",
    "stop_words = set([\n",
    "    'a', 'an', 'and', 'the', 'of', 'in', 'to', 'is', 'it', 'that', 'on', 'for', \n",
    "    'with', 'as', 'by', 'at', 'from', 'this', 'be', 'or', 'which', 'but', 'are', \n",
    "    'was', 'were', 'not', 'have', 'has', 'had', 'will', 'would', 'can', 'could', \n",
    "    'should', 'shall', 'may', 'might', 'must', 'do', 'does', 'did','w','T'\n",
    "])\n",
    "\n",
    "def is_valid_word(word):\n",
    "    return re.match(r'^[A-Za-z0-9]+$', word) is not None and word.lower() not in stop_words\n",
    "\n",
    "def count_frequency(keywords):\n",
    "    keyword_counter = Counter(word for word, _ in keywords if is_valid_word(word))\n",
    "    return sorted(keyword_counter.items(), key=lambda x: x[1], reverse=True)\n",
    "\n",
    "unique_keywords = count_frequency(flat_list)\n",
    "top_50_keywords = unique_keywords[:50]\n"
   ]
  },
  {
   "cell_type": "code",
   "execution_count": null,
   "id": "a94a58be-48c4-4b71-b65c-d6f12368f4bd",
   "metadata": {},
   "outputs": [],
   "source": [
    "import os\n",
    "\n",
    "output_path = '   '\n",
    "if not os.path.exists(output_path):\n",
    "    df_keywords = pd.DataFrame(top_50_keywords, columns=['Keyword', 'Score'])\n",
    "    df_keywords.to_csv(output_path, index=False)"
   ]
  }
 ],
 "metadata": {
  "kernelspec": {
   "display_name": "Python 3 (ipykernel)",
   "language": "python",
   "name": "python3"
  },
  "language_info": {
   "codemirror_mode": {
    "name": "ipython",
    "version": 3
   },
   "file_extension": ".py",
   "mimetype": "text/x-python",
   "name": "python",
   "nbconvert_exporter": "python",
   "pygments_lexer": "ipython3",
   "version": "3.9.5"
  }
 },
 "nbformat": 4,
 "nbformat_minor": 5
}
