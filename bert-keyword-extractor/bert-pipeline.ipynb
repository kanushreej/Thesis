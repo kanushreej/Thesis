{
 "cells": [
  {
   "cell_type": "code",
   "execution_count": null,
   "id": "92166e09-a59c-42c6-ab33-e3bbf5f21369",
   "metadata": {},
   "outputs": [],
   "source": [
    "from transformers import pipeline"
   ]
  },
  {
   "cell_type": "code",
   "execution_count": null,
   "id": "866b27fa-8f23-42dc-ab46-defefde627f4",
   "metadata": {},
   "outputs": [],
   "source": [
    "extractor = pipeline(model = \"yanekyuk/bert-keyword-extractor\")"
   ]
  },
  {
   "cell_type": "code",
   "execution_count": null,
   "id": "e43b0147-21c8-4902-aa99-34d3d2aefdc3",
   "metadata": {},
   "outputs": [],
   "source": [
    "# Read the csv file\n",
    "import pandas as pd\n",
    "\n",
    "df = pd.read_csv(\"p&c_Healthcare.csv\")"
   ]
  },
  {
   "cell_type": "code",
   "execution_count": null,
   "id": "fb7a8956-3e57-4118-b3db-82177e92eb21",
   "metadata": {},
   "outputs": [],
   "source": [
    "# clean the data\n",
    "df['body'] = df['body'].fillna('0').astype(str)"
   ]
  },
  {
   "cell_type": "code",
   "execution_count": null,
   "id": "0048320f-d861-44fa-a03e-9cb09774a46f",
   "metadata": {},
   "outputs": [],
   "source": [
    "# Define a keyword extraction function\n",
    "def extract_keywords(text):\n",
    "    try:\n",
    "        return extractor(text)\n",
    "    except Exception as e:\n",
    "        print(f\"Error extracting keywords for text: {text} with error {e}\")"
   ]
  },
  {
   "cell_type": "code",
   "execution_count": null,
   "id": "dc2bca6d-896c-47f1-9771-f504fc5990d0",
   "metadata": {},
   "outputs": [],
   "source": [
    "# Use the function to extract keyword\n",
    "df['keywords'] = df['body'].apply(extract_keywords)"
   ]
  },
  {
   "cell_type": "code",
   "execution_count": null,
   "id": "62ef5ac9-0655-4e81-ae0e-91decbd2a108",
   "metadata": {},
   "outputs": [],
   "source": [
    "# Define a formatting function\n",
    "def format_keywords(hf_output):\n",
    "    return [(entry['word'], entry['score']) for entry in hf_output]"
   ]
  },
  {
   "cell_type": "code",
   "execution_count": null,
   "id": "7b517562-4a41-4091-94d5-abe10dc91cc8",
   "metadata": {},
   "outputs": [],
   "source": [
    "df['formatted_keywords'] = df['keywords'].apply(format_keywords)"
   ]
  },
  {
   "cell_type": "code",
   "execution_count": null,
   "id": "45d86ebf-f9ea-4c2a-af5c-0e9316d0056a",
   "metadata": {},
   "outputs": [],
   "source": [
    "# To solve the prblem brought by subword tokenization\n",
    "def merge_subwords(keywords):\n",
    "    merged_keywords = []\n",
    "    previous_keyword = None\n",
    "    \n",
    "    for word, score in keywords:\n",
    "        if word.startswith('##'):\n",
    "            if previous_keyword:\n",
    "                # Remove the \"##\" and combine with previous word\n",
    "                previous_keyword = (previous_keyword[0] + word.replace('##', ''), max(previous_keyword[1], score))\n",
    "        else:\n",
    "            if previous_keyword:\n",
    "                # Add the keyword we combined to the list\n",
    "                merged_keywords.append(previous_keyword)\n",
    "            # Update the previous_keyword with current word\n",
    "            previous_keyword = (word, score)\n",
    "    \n",
    "    # Make sure the last word will be added\n",
    "    if previous_keyword:\n",
    "        merged_keywords.append(previous_keyword)\n",
    "        \n",
    "    return merged_keywords"
   ]
  },
  {
   "cell_type": "code",
   "execution_count": null,
   "id": "e3d1e3a9-af73-41d5-9855-37a52ca98bdf",
   "metadata": {},
   "outputs": [],
   "source": [
    "df['merged_keywords'] = df['formatted_keywords'].apply(merge_subwords)"
   ]
  },
  {
   "cell_type": "code",
   "execution_count": null,
   "id": "891a95ee-33e8-4452-bd30-ed0748534dc8",
   "metadata": {},
   "outputs": [],
   "source": [
    "all_keywords = df['merged_keywords'].tolist()"
   ]
  },
  {
   "cell_type": "code",
   "execution_count": null,
   "id": "ad7c24f2-50e0-4f92-9672-cc83394c72d5",
   "metadata": {},
   "outputs": [],
   "source": [
    "from itertools import chain\n",
    "\n",
    "flat_list = list(chain(*all_keywords)) "
   ]
  },
  {
   "cell_type": "code",
   "execution_count": null,
   "id": "37bf94e7-3501-4fca-8412-40fda678ab6d",
   "metadata": {},
   "outputs": [],
   "source": [
    "def remove_duplicates(keywords):\n",
    "    keyword_dict = {}\n",
    "    for word, score in keywords:\n",
    "        if word not in keyword_dict or keyword_dict[word] < score:\n",
    "            keyword_dict[word] = score\n",
    "    return sorted(keyword_dict.items(), key=lambda x: x[1], reverse=True)\n",
    "\n",
    "unique_keywords = remove_duplicates(flat_list)\n",
    "top_100_keywords = unique_keywords[:100]\n"
   ]
  },
  {
   "cell_type": "code",
   "execution_count": null,
   "id": "01963544-804e-4e60-9ef0-eb1d2f8ea6fb",
   "metadata": {},
   "outputs": [],
   "source": [
    "top_100_keywords"
   ]
  },
  {
   "cell_type": "code",
   "execution_count": null,
   "id": "a94a58be-48c4-4b71-b65c-d6f12368f4bd",
   "metadata": {},
   "outputs": [],
   "source": [
    "import os\n",
    "\n",
    "output_path = 'kw_Healthcare.csv'\n",
    "if not os.path.exists(output_path):\n",
    "    df_keywords = pd.DataFrame(top_100_keywords, columns=['Keyword', 'Score'])\n",
    "    df_keywords.to_csv(output_path, index=False)"
   ]
  },
  {
   "cell_type": "code",
   "execution_count": null,
   "id": "da91e92c-ee0a-4bc6-a9fb-0bd0e58cd201",
   "metadata": {},
   "outputs": [],
   "source": []
  }
 ],
 "metadata": {
  "kernelspec": {
   "display_name": "Python 3 (ipykernel)",
   "language": "python",
   "name": "python3"
  },
  "language_info": {
   "codemirror_mode": {
    "name": "ipython",
    "version": 3
   },
   "file_extension": ".py",
   "mimetype": "text/x-python",
   "name": "python",
   "nbconvert_exporter": "python",
   "pygments_lexer": "ipython3",
   "version": "3.9.5"
  }
 },
 "nbformat": 4,
 "nbformat_minor": 5
}
