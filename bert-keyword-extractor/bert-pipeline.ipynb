{
 "cells": [
  {
   "cell_type": "code",
   "execution_count": 116,
   "id": "92166e09-a59c-42c6-ab33-e3bbf5f21369",
   "metadata": {},
   "outputs": [],
   "source": [
    "from transformers import pipeline"
   ]
  },
  {
   "cell_type": "code",
   "execution_count": 117,
   "id": "866b27fa-8f23-42dc-ab46-defefde627f4",
   "metadata": {},
   "outputs": [],
   "source": [
    "extractor = pipeline(model = \"yanekyuk/bert-keyword-extractor\")"
   ]
  },
  {
   "cell_type": "code",
   "execution_count": 168,
   "id": "e43b0147-21c8-4902-aa99-34d3d2aefdc3",
   "metadata": {},
   "outputs": [],
   "source": [
    "# Read the csv file\n",
    "import pandas as pd\n",
    "\n",
    "df = pd.read_csv(\"p&c_Healthcare.csv\")"
   ]
  },
  {
   "cell_type": "code",
   "execution_count": 169,
   "id": "fb7a8956-3e57-4118-b3db-82177e92eb21",
   "metadata": {},
   "outputs": [],
   "source": [
    "# clean the data\n",
    "df['body'] = df['body'].fillna('0').astype(str)"
   ]
  },
  {
   "cell_type": "code",
   "execution_count": 170,
   "id": "0048320f-d861-44fa-a03e-9cb09774a46f",
   "metadata": {},
   "outputs": [],
   "source": [
    "# Define a keyword extraction function\n",
    "def extract_keywords(text):\n",
    "    try:\n",
    "        return extractor(text)\n",
    "    except Exception as e:\n",
    "        print(f\"Error extracting keywords for text: {text} with error {e}\")"
   ]
  },
  {
   "cell_type": "code",
   "execution_count": 171,
   "id": "dc2bca6d-896c-47f1-9771-f504fc5990d0",
   "metadata": {},
   "outputs": [],
   "source": [
    "# Use the function to extract keyword\n",
    "df['keywords'] = df['body'].apply(extract_keywords)"
   ]
  },
  {
   "cell_type": "code",
   "execution_count": 172,
   "id": "62ef5ac9-0655-4e81-ae0e-91decbd2a108",
   "metadata": {},
   "outputs": [],
   "source": [
    "# Define a formatting function\n",
    "def format_keywords(hf_output):\n",
    "    return [(entry['word'], entry['score']) for entry in hf_output]"
   ]
  },
  {
   "cell_type": "code",
   "execution_count": 173,
   "id": "7b517562-4a41-4091-94d5-abe10dc91cc8",
   "metadata": {},
   "outputs": [],
   "source": [
    "df['formatted_keywords'] = df['keywords'].apply(format_keywords)"
   ]
  },
  {
   "cell_type": "code",
   "execution_count": 174,
   "id": "45d86ebf-f9ea-4c2a-af5c-0e9316d0056a",
   "metadata": {},
   "outputs": [],
   "source": [
    "# To solve the prblem brought by subword tokenization\n",
    "def merge_subwords(keywords):\n",
    "    merged_keywords = []\n",
    "    previous_keyword = None\n",
    "    \n",
    "    for word, score in keywords:\n",
    "        if word.startswith('##'):\n",
    "            if previous_keyword:\n",
    "                # Remove the \"##\" and combine with previous word\n",
    "                previous_keyword = (previous_keyword[0] + word.replace('##', ''), max(previous_keyword[1], score))\n",
    "        else:\n",
    "            if previous_keyword:\n",
    "                # Add the keyword we combined to the list\n",
    "                merged_keywords.append(previous_keyword)\n",
    "            # Update the previous_keyword with current word\n",
    "            previous_keyword = (word, score)\n",
    "    \n",
    "    # Make sure the last word will be added\n",
    "    if previous_keyword:\n",
    "        merged_keywords.append(previous_keyword)\n",
    "        \n",
    "    return merged_keywords"
   ]
  },
  {
   "cell_type": "code",
   "execution_count": 175,
   "id": "e3d1e3a9-af73-41d5-9855-37a52ca98bdf",
   "metadata": {},
   "outputs": [],
   "source": [
    "df['merged_keywords'] = df['formatted_keywords'].apply(merge_subwords)"
   ]
  },
  {
   "cell_type": "code",
   "execution_count": 176,
   "id": "891a95ee-33e8-4452-bd30-ed0748534dc8",
   "metadata": {},
   "outputs": [],
   "source": [
    "all_keywords = df['merged_keywords'].tolist()"
   ]
  },
  {
   "cell_type": "code",
   "execution_count": 177,
   "id": "ad7c24f2-50e0-4f92-9672-cc83394c72d5",
   "metadata": {},
   "outputs": [],
   "source": [
    "from itertools import chain\n",
    "\n",
    "flat_list = list(chain(*all_keywords)) "
   ]
  },
  {
   "cell_type": "code",
   "execution_count": 178,
   "id": "37bf94e7-3501-4fca-8412-40fda678ab6d",
   "metadata": {},
   "outputs": [],
   "source": [
    "def remove_duplicates(keywords):\n",
    "    keyword_dict = {}\n",
    "    for word, score in keywords:\n",
    "        if word not in keyword_dict or keyword_dict[word] < score:\n",
    "            keyword_dict[word] = score\n",
    "    return sorted(keyword_dict.items(), key=lambda x: x[1], reverse=True)\n",
    "\n",
    "unique_keywords = remove_duplicates(flat_list)\n",
    "top_100_keywords = unique_keywords[:100]\n"
   ]
  },
  {
   "cell_type": "code",
   "execution_count": 179,
   "id": "01963544-804e-4e60-9ef0-eb1d2f8ea6fb",
   "metadata": {},
   "outputs": [
    {
     "data": {
      "text/plain": [
       "[('AdventHealth', 0.9999807),\n",
       " ('apnea', 0.9999771),\n",
       " ('echocardiogram', 0.99997365),\n",
       " ('Telemynd', 0.9999734),\n",
       " ('Armodafinil', 0.99997306),\n",
       " ('GlaxoSmithKlinelovent', 0.99997306),\n",
       " ('Apnea', 0.99996984),\n",
       " ('Reddit', 0.99996924),\n",
       " ('cryptocurrency', 0.9999689),\n",
       " ('CareFirst', 0.9999685),\n",
       " ('chiropractor', 0.99996805),\n",
       " ('Sleep', 0.9999678),\n",
       " ('amyloidosis', 0.9999677),\n",
       " ('syndrome', 0.9999676),\n",
       " ('QuickBlox', 0.9999676),\n",
       " ('Google', 0.99996734),\n",
       " ('telehealth', 0.99996686),\n",
       " ('electrocardiogram', 0.9999664),\n",
       " ('methotrexate', 0.99996626),\n",
       " ('allergy', 0.99996614),\n",
       " ('Aetna', 0.9999658),\n",
       " ('colitis', 0.9999654),\n",
       " ('Teladoc', 0.9999647),\n",
       " ('phlebotomy', 0.9999645),\n",
       " ('ulcerative', 0.99996436),\n",
       " ('Glow', 0.9999641),\n",
       " ('google', 0.99996376),\n",
       " ('obese', 0.99996316),\n",
       " ('HIPAA', 0.99996305),\n",
       " ('zocdoc', 0.99996305),\n",
       " ('bipolar', 0.9999629),\n",
       " ('ELECTROcardiogram', 0.9999627),\n",
       " ('Power', 0.99996257),\n",
       " ('paxil', 0.999962),\n",
       " ('telemedicine', 0.99996185),\n",
       " ('Parenthood', 0.99996173),\n",
       " ('WellCare', 0.9999615),\n",
       " ('Psychiatry', 0.9999614),\n",
       " ('fluticasone', 0.99996126),\n",
       " ('Albuterol', 0.99996126),\n",
       " ('mastectomy', 0.99996066),\n",
       " ('Planned', 0.9999603),\n",
       " ('tonsillectomy', 0.99996006),\n",
       " ('inhaler', 0.9999597),\n",
       " ('tourette', 0.99995947),\n",
       " ('pro', 0.99995863),\n",
       " ('reddit', 0.9999585),\n",
       " ('vitro', 0.9999583),\n",
       " ('teardrop', 0.9999583),\n",
       " ('webinar', 0.99995816),\n",
       " ('clownocracy', 0.99995744),\n",
       " ('radiology', 0.9999572),\n",
       " ('ECHOcardiogram', 0.9999571),\n",
       " ('diabetic', 0.99995637),\n",
       " ('NuGen', 0.9999559),\n",
       " ('Protonix', 0.99995565),\n",
       " ('HealthStream', 0.9999554),\n",
       " ('monopoli', 0.9999554),\n",
       " ('private', 0.99995446),\n",
       " ('call', 0.99995446),\n",
       " ('glaucoma', 0.99995434),\n",
       " ('sulfite', 0.9999542),\n",
       " ('TikTok', 0.9999541),\n",
       " ('Osteopathic', 0.99995387),\n",
       " ('colonoscopy', 0.9999534),\n",
       " ('haemophilia', 0.9999529),\n",
       " ('aetna', 0.9999528),\n",
       " ('chemotherapy', 0.9999522),\n",
       " ('Medicare', 0.99995184),\n",
       " ('endoscopy', 0.9999515),\n",
       " ('osteoporosis', 0.99995077),\n",
       " ('lexapro', 0.9999504),\n",
       " ('Telehealth', 0.9999502),\n",
       " ('USHEALTH', 0.9999498),\n",
       " ('preventative', 0.99994946),\n",
       " ('pseudoscience', 0.99994886),\n",
       " ('shooter', 0.9999485),\n",
       " ('opeiton', 0.9999485),\n",
       " ('sonopraphy', 0.9999485),\n",
       " ('podiatrist', 0.9999471),\n",
       " ('cobra', 0.9999467),\n",
       " ('kryptonite', 0.9999467),\n",
       " ('Zoloft', 0.9999467),\n",
       " ('physiotherapist', 0.9999461),\n",
       " ('Walgreens', 0.99994564),\n",
       " ('florida', 0.9999455),\n",
       " ('brokie', 0.99994516),\n",
       " ('MediCal', 0.99994457),\n",
       " ('Attorney', 0.99994445),\n",
       " ('acupuncture', 0.999944),\n",
       " ('antiabortion', 0.99994385),\n",
       " ('Elon', 0.99994373),\n",
       " ('redditls', 0.9999436),\n",
       " ('Oxycontin', 0.9999435),\n",
       " ('preventive', 0.9999434),\n",
       " ('chiropractic', 0.99994314),\n",
       " ('omeprazole', 0.99994314),\n",
       " ('authization', 0.999943),\n",
       " ('Nurtec', 0.9999424),\n",
       " ('dermatology', 0.9999422)]"
      ]
     },
     "execution_count": 179,
     "metadata": {},
     "output_type": "execute_result"
    }
   ],
   "source": [
    "top_100_keywords"
   ]
  },
  {
   "cell_type": "code",
   "execution_count": 180,
   "id": "a94a58be-48c4-4b71-b65c-d6f12368f4bd",
   "metadata": {},
   "outputs": [],
   "source": [
    "import os\n",
    "\n",
    "output_path = 'kw_Healthcare.csv'\n",
    "if not os.path.exists(output_path):\n",
    "    df_keywords = pd.DataFrame(top_100_keywords, columns=['Keyword', 'Score'])\n",
    "    df_keywords.to_csv(output_path, index=False)"
   ]
  },
  {
   "cell_type": "code",
   "execution_count": null,
   "id": "7beee52c-4775-4604-a64a-c89870611c72",
   "metadata": {},
   "outputs": [],
   "source": []
  }
 ],
 "metadata": {
  "kernelspec": {
   "display_name": "Python 3 (ipykernel)",
   "language": "python",
   "name": "python3"
  },
  "language_info": {
   "codemirror_mode": {
    "name": "ipython",
    "version": 3
   },
   "file_extension": ".py",
   "mimetype": "text/x-python",
   "name": "python",
   "nbconvert_exporter": "python",
   "pygments_lexer": "ipython3",
   "version": "3.9.5"
  }
 },
 "nbformat": 4,
 "nbformat_minor": 5
}
